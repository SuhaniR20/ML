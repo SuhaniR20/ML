{
 "cells": [
  {
   "cell_type": "code",
   "execution_count": 9,
   "id": "78618142",
   "metadata": {},
   "outputs": [],
   "source": [
    "import pandas as pd\n",
    "df=pd.read_csv('D:\\\\ML\\\\Cardekho\\CarDekho_Dataset1.csv')"
   ]
  },
  {
   "cell_type": "code",
   "execution_count": 10,
   "id": "0750de58",
   "metadata": {},
   "outputs": [
    {
     "data": {
      "text/html": [
       "<div>\n",
       "<style scoped>\n",
       "    .dataframe tbody tr th:only-of-type {\n",
       "        vertical-align: middle;\n",
       "    }\n",
       "\n",
       "    .dataframe tbody tr th {\n",
       "        vertical-align: top;\n",
       "    }\n",
       "\n",
       "    .dataframe thead th {\n",
       "        text-align: right;\n",
       "    }\n",
       "</style>\n",
       "<table border=\"1\" class=\"dataframe\">\n",
       "  <thead>\n",
       "    <tr style=\"text-align: right;\">\n",
       "      <th></th>\n",
       "      <th>name</th>\n",
       "      <th>year</th>\n",
       "      <th>selling_price</th>\n",
       "      <th>km_driven</th>\n",
       "      <th>fuel</th>\n",
       "      <th>seller_type</th>\n",
       "      <th>transmission</th>\n",
       "      <th>owner</th>\n",
       "    </tr>\n",
       "  </thead>\n",
       "  <tbody>\n",
       "    <tr>\n",
       "      <th>0</th>\n",
       "      <td>Maruti 800 AC</td>\n",
       "      <td>2007</td>\n",
       "      <td>22598.720477</td>\n",
       "      <td>70000.0</td>\n",
       "      <td>petrol</td>\n",
       "      <td>individual</td>\n",
       "      <td>manual</td>\n",
       "      <td>first owner</td>\n",
       "    </tr>\n",
       "    <tr>\n",
       "      <th>1</th>\n",
       "      <td>Maruti Wagon R LXI Minor</td>\n",
       "      <td>2007</td>\n",
       "      <td>26248.935936</td>\n",
       "      <td>50000.0</td>\n",
       "      <td>petrol</td>\n",
       "      <td>individual</td>\n",
       "      <td>manual</td>\n",
       "      <td>first owner</td>\n",
       "    </tr>\n",
       "    <tr>\n",
       "      <th>2</th>\n",
       "      <td>Hyundai Verna 1.6 SX</td>\n",
       "      <td>2012</td>\n",
       "      <td>30048.313952</td>\n",
       "      <td>100000.0</td>\n",
       "      <td>diesel</td>\n",
       "      <td>individual</td>\n",
       "      <td>manual</td>\n",
       "      <td>first owner</td>\n",
       "    </tr>\n",
       "    <tr>\n",
       "      <th>3</th>\n",
       "      <td>Datsun RediGO T Option</td>\n",
       "      <td>2017</td>\n",
       "      <td>103341.409675</td>\n",
       "      <td>46000.0</td>\n",
       "      <td>petrol</td>\n",
       "      <td>individual</td>\n",
       "      <td>manual</td>\n",
       "      <td>first owner</td>\n",
       "    </tr>\n",
       "    <tr>\n",
       "      <th>4</th>\n",
       "      <td>Honda Amaze VX i-DTEC</td>\n",
       "      <td>2014</td>\n",
       "      <td>20000.000000</td>\n",
       "      <td>141000.0</td>\n",
       "      <td>diesel</td>\n",
       "      <td>individual</td>\n",
       "      <td>manual</td>\n",
       "      <td>second owner</td>\n",
       "    </tr>\n",
       "    <tr>\n",
       "      <th>5</th>\n",
       "      <td>Maruti Alto LX BSIII</td>\n",
       "      <td>2007</td>\n",
       "      <td>20000.000000</td>\n",
       "      <td>125000.0</td>\n",
       "      <td>petrol</td>\n",
       "      <td>individual</td>\n",
       "      <td>manual</td>\n",
       "      <td>first owner</td>\n",
       "    </tr>\n",
       "    <tr>\n",
       "      <th>6</th>\n",
       "      <td>Hyundai Xcent 1.2 Kappa S</td>\n",
       "      <td>2016</td>\n",
       "      <td>103292.128155</td>\n",
       "      <td>25000.0</td>\n",
       "      <td>petrol</td>\n",
       "      <td>individual</td>\n",
       "      <td>manual</td>\n",
       "      <td>first owner</td>\n",
       "    </tr>\n",
       "    <tr>\n",
       "      <th>7</th>\n",
       "      <td>Tata Indigo Grand Petrol</td>\n",
       "      <td>2014</td>\n",
       "      <td>53007.680625</td>\n",
       "      <td>60000.0</td>\n",
       "      <td>petrol</td>\n",
       "      <td>individual</td>\n",
       "      <td>manual</td>\n",
       "      <td>2nd owner</td>\n",
       "    </tr>\n",
       "    <tr>\n",
       "      <th>8</th>\n",
       "      <td>Hyundai Creta 1.6 VTVT S</td>\n",
       "      <td>2015</td>\n",
       "      <td>73714.347050</td>\n",
       "      <td>25000.0</td>\n",
       "      <td>petrol</td>\n",
       "      <td>individual</td>\n",
       "      <td>manual</td>\n",
       "      <td>first owner</td>\n",
       "    </tr>\n",
       "    <tr>\n",
       "      <th>9</th>\n",
       "      <td>Maruti Celerio Green VXI</td>\n",
       "      <td>2017</td>\n",
       "      <td>70325.600436</td>\n",
       "      <td>78000.0</td>\n",
       "      <td>cng</td>\n",
       "      <td>individual</td>\n",
       "      <td>manual</td>\n",
       "      <td>first owner</td>\n",
       "    </tr>\n",
       "  </tbody>\n",
       "</table>\n",
       "</div>"
      ],
      "text/plain": [
       "                        name  year  selling_price  km_driven    fuel  \\\n",
       "0              Maruti 800 AC  2007   22598.720477    70000.0  petrol   \n",
       "1   Maruti Wagon R LXI Minor  2007   26248.935936    50000.0  petrol   \n",
       "2       Hyundai Verna 1.6 SX  2012   30048.313952   100000.0  diesel   \n",
       "3     Datsun RediGO T Option  2017  103341.409675    46000.0  petrol   \n",
       "4      Honda Amaze VX i-DTEC  2014   20000.000000   141000.0  diesel   \n",
       "5       Maruti Alto LX BSIII  2007   20000.000000   125000.0  petrol   \n",
       "6  Hyundai Xcent 1.2 Kappa S  2016  103292.128155    25000.0  petrol   \n",
       "7   Tata Indigo Grand Petrol  2014   53007.680625    60000.0  petrol   \n",
       "8   Hyundai Creta 1.6 VTVT S  2015   73714.347050    25000.0  petrol   \n",
       "9   Maruti Celerio Green VXI  2017   70325.600436    78000.0     cng   \n",
       "\n",
       "  seller_type transmission         owner  \n",
       "0  individual       manual   first owner  \n",
       "1  individual       manual   first owner  \n",
       "2  individual       manual   first owner  \n",
       "3  individual       manual   first owner  \n",
       "4  individual       manual  second owner  \n",
       "5  individual       manual   first owner  \n",
       "6  individual       manual   first owner  \n",
       "7  individual       manual     2nd owner  \n",
       "8  individual       manual   first owner  \n",
       "9  individual       manual   first owner  "
      ]
     },
     "execution_count": 10,
     "metadata": {},
     "output_type": "execute_result"
    }
   ],
   "source": [
    "#df=pd.read_csv(path)\n",
    "df.head(10)"
   ]
  },
  {
   "cell_type": "code",
   "execution_count": 11,
   "id": "927e9b20",
   "metadata": {},
   "outputs": [
    {
     "data": {
      "text/html": [
       "<div>\n",
       "<style scoped>\n",
       "    .dataframe tbody tr th:only-of-type {\n",
       "        vertical-align: middle;\n",
       "    }\n",
       "\n",
       "    .dataframe tbody tr th {\n",
       "        vertical-align: top;\n",
       "    }\n",
       "\n",
       "    .dataframe thead th {\n",
       "        text-align: right;\n",
       "    }\n",
       "</style>\n",
       "<table border=\"1\" class=\"dataframe\">\n",
       "  <thead>\n",
       "    <tr style=\"text-align: right;\">\n",
       "      <th></th>\n",
       "      <th>year</th>\n",
       "      <th>selling_price</th>\n",
       "      <th>km_driven</th>\n",
       "    </tr>\n",
       "  </thead>\n",
       "  <tbody>\n",
       "    <tr>\n",
       "      <th>count</th>\n",
       "      <td>4345.000000</td>\n",
       "      <td>4315.000000</td>\n",
       "      <td>4315.000000</td>\n",
       "    </tr>\n",
       "    <tr>\n",
       "      <th>mean</th>\n",
       "      <td>2013.091139</td>\n",
       "      <td>60073.454525</td>\n",
       "      <td>66296.218772</td>\n",
       "    </tr>\n",
       "    <tr>\n",
       "      <th>std</th>\n",
       "      <td>4.215094</td>\n",
       "      <td>40253.780044</td>\n",
       "      <td>46679.004340</td>\n",
       "    </tr>\n",
       "    <tr>\n",
       "      <th>min</th>\n",
       "      <td>1992.000000</td>\n",
       "      <td>20000.000000</td>\n",
       "      <td>1.000000</td>\n",
       "    </tr>\n",
       "    <tr>\n",
       "      <th>25%</th>\n",
       "      <td>2011.000000</td>\n",
       "      <td>20366.330957</td>\n",
       "      <td>35000.000000</td>\n",
       "    </tr>\n",
       "    <tr>\n",
       "      <th>50%</th>\n",
       "      <td>2014.000000</td>\n",
       "      <td>48849.943102</td>\n",
       "      <td>60000.000000</td>\n",
       "    </tr>\n",
       "    <tr>\n",
       "      <th>75%</th>\n",
       "      <td>2016.000000</td>\n",
       "      <td>87910.684204</td>\n",
       "      <td>90000.000000</td>\n",
       "    </tr>\n",
       "    <tr>\n",
       "      <th>max</th>\n",
       "      <td>2020.000000</td>\n",
       "      <td>226100.037576</td>\n",
       "      <td>806599.000000</td>\n",
       "    </tr>\n",
       "  </tbody>\n",
       "</table>\n",
       "</div>"
      ],
      "text/plain": [
       "              year  selling_price      km_driven\n",
       "count  4345.000000    4315.000000    4315.000000\n",
       "mean   2013.091139   60073.454525   66296.218772\n",
       "std       4.215094   40253.780044   46679.004340\n",
       "min    1992.000000   20000.000000       1.000000\n",
       "25%    2011.000000   20366.330957   35000.000000\n",
       "50%    2014.000000   48849.943102   60000.000000\n",
       "75%    2016.000000   87910.684204   90000.000000\n",
       "max    2020.000000  226100.037576  806599.000000"
      ]
     },
     "execution_count": 11,
     "metadata": {},
     "output_type": "execute_result"
    }
   ],
   "source": [
    "df.describe()"
   ]
  },
  {
   "cell_type": "code",
   "execution_count": null,
   "id": "d3d5496e",
   "metadata": {},
   "outputs": [
    {
     "name": "stdout",
     "output_type": "stream",
     "text": [
      "<class 'pandas.core.frame.DataFrame'>\n",
      "RangeIndex: 4345 entries, 0 to 4344\n",
      "Data columns (total 8 columns):\n",
      " #   Column         Non-Null Count  Dtype  \n",
      "---  ------         --------------  -----  \n",
      " 0   name           4345 non-null   object \n",
      " 1   year           4345 non-null   int64  \n",
      " 2   selling_price  4315 non-null   float64\n",
      " 3   km_driven      4315 non-null   float64\n",
      " 4   fuel           4345 non-null   object \n",
      " 5   seller_type    4345 non-null   object \n",
      " 6   transmission   4345 non-null   object \n",
      " 7   owner          4345 non-null   object \n",
      "dtypes: float64(2), int64(1), object(5)\n",
      "memory usage: 271.7+ KB\n"
     ]
    }
   ],
   "source": [
    "df.info()"
   ]
  },
  {
   "cell_type": "code",
   "execution_count": null,
   "id": "71b23f57",
   "metadata": {},
   "outputs": [
    {
     "data": {
      "text/plain": [
       "array(['petrol', 'diesel', 'cng', 'Petrol', 'lpg', 'cnG', 'Diesel',\n",
       "       'PETROL', 'CNG', 'electric'], dtype=object)"
      ]
     },
     "execution_count": 7,
     "metadata": {},
     "output_type": "execute_result"
    }
   ],
   "source": [
    "df.fuel.unique()"
   ]
  },
  {
   "cell_type": "code",
   "execution_count": null,
   "id": "9044e66a",
   "metadata": {},
   "outputs": [
    {
     "data": {
      "text/plain": [
       "array(['individual', 'dealer', 'Dealer', 'INDIVIDUAL', 'Individual',\n",
       "       'trustmark dealer'], dtype=object)"
      ]
     },
     "execution_count": 8,
     "metadata": {},
     "output_type": "execute_result"
    }
   ],
   "source": [
    "df.seller_type.unique()"
   ]
  },
  {
   "cell_type": "code",
   "execution_count": null,
   "id": "d8e08ed6",
   "metadata": {},
   "outputs": [
    {
     "data": {
      "text/plain": [
       "array(['manual', 'automatic', 'MANUAL', 'Manual', 'Automatic', 'auto'],\n",
       "      dtype=object)"
      ]
     },
     "execution_count": 9,
     "metadata": {},
     "output_type": "execute_result"
    }
   ],
   "source": [
    "df.transmission.unique()"
   ]
  },
  {
   "cell_type": "code",
   "execution_count": null,
   "id": "b266684f",
   "metadata": {},
   "outputs": [
    {
     "data": {
      "text/plain": [
       "array(['first owner', 'second owner', '2nd owner', 'FIRST OWNER',\n",
       "       'fourth & above owner', 'third owner', 'First Owner',\n",
       "       'Second Owner', 'test drive car'], dtype=object)"
      ]
     },
     "execution_count": 10,
     "metadata": {},
     "output_type": "execute_result"
    }
   ],
   "source": [
    "df.owner.unique()"
   ]
  },
  {
   "cell_type": "code",
   "execution_count": null,
   "id": "abca8599",
   "metadata": {},
   "outputs": [
    {
     "data": {
      "text/plain": [
       "array(['Petrol', 'Diesel', 'CNG', 'LPG', 'Electric'], dtype=object)"
      ]
     },
     "execution_count": 11,
     "metadata": {},
     "output_type": "execute_result"
    }
   ],
   "source": [
    "mapping_fuel={'petrol':'Petrol','diesel':'Diesel','cng':'CNG','PETROL':'Petrol','cnG':'CNG','lpg':'LPG','electric':'Electric'}\n",
    "df['fuel']=df['fuel'].replace(mapping_fuel)\n",
    "df.fuel.unique()\n"
   ]
  },
  {
   "cell_type": "code",
   "execution_count": null,
   "id": "a84e7a7e",
   "metadata": {},
   "outputs": [
    {
     "data": {
      "text/plain": [
       "array(['Individual', 'Dealer', 'Trustmark Dealer'], dtype=object)"
      ]
     },
     "execution_count": 12,
     "metadata": {},
     "output_type": "execute_result"
    }
   ],
   "source": [
    "mapping_seller={'individual':'Individual','dealer':'Dealer','INDIVIDUAL':'Individual','trustmark dealer':'Trustmark Dealer'}\n",
    "df['seller_type']=df['seller_type'].replace(mapping_seller)\n",
    "df.seller_type.unique()\n"
   ]
  },
  {
   "cell_type": "code",
   "execution_count": null,
   "id": "f162425a",
   "metadata": {},
   "outputs": [
    {
     "data": {
      "text/plain": [
       "array(['Manual', 'Automatic', 'Auto'], dtype=object)"
      ]
     },
     "execution_count": 13,
     "metadata": {},
     "output_type": "execute_result"
    }
   ],
   "source": [
    "mapping_transmission={'manual':'Manual','MANUAL':'Manual','auto':'Auto','automatic':'Automatic'}\n",
    "df['transmission']=df['transmission'].replace(mapping_transmission)\n",
    "df.transmission.unique()\n"
   ]
  },
  {
   "cell_type": "code",
   "execution_count": null,
   "id": "57175f9c",
   "metadata": {},
   "outputs": [
    {
     "data": {
      "text/plain": [
       "array(['1st Owner', '2nd Owner', '4rth & Above Owner', '3rd Owner',\n",
       "       'Test Drive Car'], dtype=object)"
      ]
     },
     "execution_count": 14,
     "metadata": {},
     "output_type": "execute_result"
    }
   ],
   "source": [
    "mapping_owner={'first owner':'1st Owner','FIRST OWNER':'1st Owner','First Owner':'1st Owner','second owner':'2nd Owner','2nd owner':'2nd Owner',\n",
    "               'Second Owner':'2nd Owner','third owner':'3rd Owner','fourth & above owner':'4rth & Above Owner','test drive car':'Test Drive Car'}\n",
    "df['owner']=df['owner'].replace(mapping_owner)\n",
    "df.owner.unique()\n"
   ]
  },
  {
   "cell_type": "code",
   "execution_count": null,
   "id": "a26d3905",
   "metadata": {},
   "outputs": [],
   "source": [
    "df_clean=df.dropna(subset=['selling_price','km_driven'])\n",
    "#df_clean=df.dropna()\n",
    "#df_clean.info()"
   ]
  }
 ],
 "metadata": {
  "kernelspec": {
   "display_name": "base",
   "language": "python",
   "name": "python3"
  },
  "language_info": {
   "codemirror_mode": {
    "name": "ipython",
    "version": 3
   },
   "file_extension": ".py",
   "mimetype": "text/x-python",
   "name": "python",
   "nbconvert_exporter": "python",
   "pygments_lexer": "ipython3",
   "version": "3.13.5"
  }
 },
 "nbformat": 4,
 "nbformat_minor": 5
}
