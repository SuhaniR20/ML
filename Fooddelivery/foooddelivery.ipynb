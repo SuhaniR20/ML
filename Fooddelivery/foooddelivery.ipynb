{
 "cells": [
  {
   "cell_type": "code",
   "execution_count": null,
   "id": "0d894414",
   "metadata": {},
   "outputs": [],
   "source": [
    "import pandas as pd\n",
    "df=pd.read_csv('D:\\\\ML\\\\fooddelivery\\Food_Delivery_Dataset.csv')\n",
    "print(df)\n"
   ]
  },
  {
   "cell_type": "code",
   "execution_count": 45,
   "id": "8f79fcae",
   "metadata": {},
   "outputs": [
    {
     "data": {
      "text/html": [
       "<div>\n",
       "<style scoped>\n",
       "    .dataframe tbody tr th:only-of-type {\n",
       "        vertical-align: middle;\n",
       "    }\n",
       "\n",
       "    .dataframe tbody tr th {\n",
       "        vertical-align: top;\n",
       "    }\n",
       "\n",
       "    .dataframe thead th {\n",
       "        text-align: right;\n",
       "    }\n",
       "</style>\n",
       "<table border=\"1\" class=\"dataframe\">\n",
       "  <thead>\n",
       "    <tr style=\"text-align: right;\">\n",
       "      <th></th>\n",
       "      <th>order_distance_km</th>\n",
       "      <th>delivery_partner_rating</th>\n",
       "      <th>restaurant_rating</th>\n",
       "      <th>delivery_time_min</th>\n",
       "    </tr>\n",
       "  </thead>\n",
       "  <tbody>\n",
       "    <tr>\n",
       "      <th>count</th>\n",
       "      <td>4974.000000</td>\n",
       "      <td>4975.000000</td>\n",
       "      <td>5050.000000</td>\n",
       "      <td>4899.000000</td>\n",
       "    </tr>\n",
       "    <tr>\n",
       "      <th>mean</th>\n",
       "      <td>12.713969</td>\n",
       "      <td>3.755337</td>\n",
       "      <td>3.494277</td>\n",
       "      <td>98.109536</td>\n",
       "    </tr>\n",
       "    <tr>\n",
       "      <th>std</th>\n",
       "      <td>7.118125</td>\n",
       "      <td>0.734255</td>\n",
       "      <td>0.874783</td>\n",
       "      <td>50.460971</td>\n",
       "    </tr>\n",
       "    <tr>\n",
       "      <th>min</th>\n",
       "      <td>0.500000</td>\n",
       "      <td>2.500000</td>\n",
       "      <td>2.000000</td>\n",
       "      <td>10.000000</td>\n",
       "    </tr>\n",
       "    <tr>\n",
       "      <th>25%</th>\n",
       "      <td>6.500000</td>\n",
       "      <td>3.100000</td>\n",
       "      <td>2.700000</td>\n",
       "      <td>56.604047</td>\n",
       "    </tr>\n",
       "    <tr>\n",
       "      <th>50%</th>\n",
       "      <td>12.775000</td>\n",
       "      <td>3.800000</td>\n",
       "      <td>3.500000</td>\n",
       "      <td>94.329556</td>\n",
       "    </tr>\n",
       "    <tr>\n",
       "      <th>75%</th>\n",
       "      <td>18.930000</td>\n",
       "      <td>4.400000</td>\n",
       "      <td>4.300000</td>\n",
       "      <td>133.925423</td>\n",
       "    </tr>\n",
       "    <tr>\n",
       "      <th>max</th>\n",
       "      <td>25.000000</td>\n",
       "      <td>5.000000</td>\n",
       "      <td>5.000000</td>\n",
       "      <td>274.313000</td>\n",
       "    </tr>\n",
       "  </tbody>\n",
       "</table>\n",
       "</div>"
      ],
      "text/plain": [
       "       order_distance_km  delivery_partner_rating  restaurant_rating  \\\n",
       "count        4974.000000              4975.000000        5050.000000   \n",
       "mean           12.713969                 3.755337           3.494277   \n",
       "std             7.118125                 0.734255           0.874783   \n",
       "min             0.500000                 2.500000           2.000000   \n",
       "25%             6.500000                 3.100000           2.700000   \n",
       "50%            12.775000                 3.800000           3.500000   \n",
       "75%            18.930000                 4.400000           4.300000   \n",
       "max            25.000000                 5.000000           5.000000   \n",
       "\n",
       "       delivery_time_min  \n",
       "count        4899.000000  \n",
       "mean           98.109536  \n",
       "std            50.460971  \n",
       "min            10.000000  \n",
       "25%            56.604047  \n",
       "50%            94.329556  \n",
       "75%           133.925423  \n",
       "max           274.313000  "
      ]
     },
     "execution_count": 45,
     "metadata": {},
     "output_type": "execute_result"
    }
   ],
   "source": [
    "df.describe()"
   ]
  },
  {
   "cell_type": "code",
   "execution_count": null,
   "id": "f674b60c",
   "metadata": {},
   "outputs": [],
   "source": [
    "df.info()"
   ]
  },
  {
   "cell_type": "code",
   "execution_count": null,
   "id": "af9b174a",
   "metadata": {},
   "outputs": [],
   "source": [
    "df['order_distance_km']=df['order_distance_km'].fillna(df['order_distance_km'].mean())"
   ]
  },
  {
   "cell_type": "code",
   "execution_count": 49,
   "id": "63056efd",
   "metadata": {},
   "outputs": [],
   "source": [
    "df['delivery_partner_rating' ]=df['delivery_partner_rating'].fillna(0)\n",
    "df['delivery_time_min']=df['delivery_time_min'].fillna(df['delivery_time_min'].mean())"
   ]
  },
  {
   "cell_type": "code",
   "execution_count": null,
   "id": "5e3eccc8",
   "metadata": {},
   "outputs": [
    {
     "data": {
      "text/plain": [
       "array(['ubereats', 'swiggy', 'zomato'], dtype=object)"
      ]
     },
     "execution_count": 51,
     "metadata": {},
     "output_type": "execute_result"
    }
   ],
   "source": [
    "df.order_time.unique()\n",
    "df.traffic_condition .unique()\n",
    "df.platform.unique()\n",
    "\n"
   ]
  },
  {
   "cell_type": "code",
   "execution_count": null,
   "id": "044465a4",
   "metadata": {},
   "outputs": [],
   "source": [
    "df.traffic_condition .unique()"
   ]
  },
  {
   "cell_type": "code",
   "execution_count": 52,
   "id": "4af1258e",
   "metadata": {},
   "outputs": [
    {
     "data": {
      "text/plain": [
       "array(['non-veg', 'veg'], dtype=object)"
      ]
     },
     "execution_count": 52,
     "metadata": {},
     "output_type": "execute_result"
    }
   ],
   "source": [
    "df.food_type.unique()"
   ]
  },
  {
   "cell_type": "code",
   "execution_count": 56,
   "id": "e772dcf4",
   "metadata": {},
   "outputs": [
    {
     "name": "stdout",
     "output_type": "stream",
     "text": [
      "['night' 'afternoon' 'morning' 'evening']\n",
      "['moderate' 'low' 'high']\n",
      "['ubereats' 'swiggy' 'zomato']\n",
      "['non-veg' 'veg']\n",
      "['no onions' 'contactless' 'deliver fast' 'extra spicy' 'leave at door']\n"
     ]
    }
   ],
   "source": [
    "categorical_column=['order_time','traffic_condition','platform','food_type','customer_note']\n",
    "for col in categorical_column:\n",
    "    print(df[col].unique())"
   ]
  }
 ],
 "metadata": {
  "kernelspec": {
   "display_name": "base",
   "language": "python",
   "name": "python3"
  },
  "language_info": {
   "codemirror_mode": {
    "name": "ipython",
    "version": 3
   },
   "file_extension": ".py",
   "mimetype": "text/x-python",
   "name": "python",
   "nbconvert_exporter": "python",
   "pygments_lexer": "ipython3",
   "version": "3.13.5"
  }
 },
 "nbformat": 4,
 "nbformat_minor": 5
}
