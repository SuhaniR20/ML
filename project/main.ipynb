{
 "cells": [
  {
   "cell_type": "code",
   "execution_count": 5,
   "id": "43ebf674",
   "metadata": {},
   "outputs": [],
   "source": [
    "import pandas as pd\n",
    "import numpy as np\n",
    "import matplotlib.pyplot as plt\n",
    "\n",
    "from sklearn.model_selection import train_test_split\n",
    "from sklearn.compose import ColumnTransformer\n",
    "from sklearn.preprocessing import OneHotEncoder, StandardScaler\n",
    "from sklearn.pipeline import Pipeline\n",
    "from sklearn.metrics import accuracy_score, roc_auc_score, classification_report, confusion_matrix, RocCurveDisplay\n",
    "from sklearn.linear_model import LogisticRegression\n",
    "from sklearn.ensemble import RandomForestClassifier\n",
    "\n",
    "import joblib\n",
    "import re\n",
    "import os\n"
   ]
  },
  {
   "cell_type": "code",
   "execution_count": null,
   "id": "bc6cc5d3",
   "metadata": {},
   "outputs": [],
   "source": [
    "df=pd.read_csv('D:\\python\\PROJECT\\heart_desiases_detector.csv')\n",
    "print(df)"
   ]
  },
  {
   "cell_type": "code",
   "execution_count": null,
   "id": "42cc329d",
   "metadata": {},
   "outputs": [],
   "source": [
    "plt.figure()\n",
    "df['age'].plot(kind='hist',bins=10,edgecolor='black')\n",
    "plt.title('age distribution')\n",
    "plt.xlabel('age')\n",
    "plt.ylabel('count')\n",
    "plt.show()\n"
   ]
  },
  {
   "cell_type": "code",
   "execution_count": null,
   "id": "5e160ec7",
   "metadata": {},
   "outputs": [],
   "source": [
    "df.columns"
   ]
  },
  {
   "cell_type": "code",
   "execution_count": 45,
   "id": "6c5e00e6",
   "metadata": {},
   "outputs": [],
   "source": [
    "x=df[['age','sex','cp','trestbps','chol','fbs','restecg','thalach','exang','oldpeak','slope','ca','thal']]\n",
    "y=df['target']\n",
    "x_train,x_test,y_train,y_test=train_test_split(x,y,test_size=0.2,random_state=42)"
   ]
  },
  {
   "cell_type": "code",
   "execution_count": 40,
   "id": "6391318d",
   "metadata": {},
   "outputs": [],
   "source": [
    "numeric_features=['age','sex','cp','trestbps','chol','fbs','restecg','thalach','exang','oldpeak','slope','ca','thal']\n",
    "categorical_feature=[]\n",
    "\n",
    "numeric_transformer=Pipeline(steps=[('scaler',StandardScaler())])\n",
    "categorical_transformer=OneHotEncoder(handle_unknown='ignore')\n",
    "\n",
    "preprocess=ColumnTransformer(\n",
    "    transformers=[\n",
    "        ('num',numeric_transformer,numeric_features),\n",
    "        ('cat',categorical_transformer,categorical_feature)\n",
    "    ]\n",
    ")"
   ]
  },
  {
   "cell_type": "code",
   "execution_count": null,
   "id": "8dab8ecb",
   "metadata": {},
   "outputs": [],
   "source": [
    "#logistic Regression\n",
    "log_reg=Pipeline(steps=[('preprocess',preprocess),\n",
    "                        ('model',LogisticRegression(max_iter=1000))])\n",
    "\n",
    "log_reg.fit(x_train,y_train)\n",
    "pred_lr=log_reg.predict(x_test)\n",
    "prob_lr=log_reg.predict_proba(x_test)[:,1]\n",
    "\n",
    "print(\"===Logistic Regressiion===\")\n",
    "print(\"Accuracy:\",accuracy_score(y_test,pred_lr))\n",
    "                 \n",
    "            "
   ]
  },
  {
   "cell_type": "code",
   "execution_count": null,
   "id": "a39542c1",
   "metadata": {},
   "outputs": [],
   "source": [
    "\n",
    "log_reg.fit(x_train,y_train)"
   ]
  },
  {
   "cell_type": "code",
   "execution_count": null,
   "id": "cfc3f6de",
   "metadata": {},
   "outputs": [],
   "source": [
    "#random forest\n",
    "rf=Pipeline(steps=[('preprocess',preprocess),\n",
    "                        ('model',RandomForestClassifier(n_estimators=200,random_state=42))])\n",
    "\n",
    "rf.fit(x_train,y_train)\n",
    "pred_rf=rf.predict(x_test)\n",
    "proba_rf=rf.predict_proba(x_test)[:,1]\n",
    "\n",
    "print(\"===Random Forest===\")\n",
    "print(\"Accuracy:\",accuracy_score(y_test,pred_rf))\n",
    "print('ROc AUC:',roc_auc_score(y_test,proba_rf))\n",
    "print(classification_report(y_test,pred_rf))            "
   ]
  }
 ],
 "metadata": {
  "kernelspec": {
   "display_name": "Python 3",
   "language": "python",
   "name": "python3"
  },
  "language_info": {
   "codemirror_mode": {
    "name": "ipython",
    "version": 3
   },
   "file_extension": ".py",
   "mimetype": "text/x-python",
   "name": "python",
   "nbconvert_exporter": "python",
   "pygments_lexer": "ipython3",
   "version": "3.12.10"
  }
 },
 "nbformat": 4,
 "nbformat_minor": 5
}
